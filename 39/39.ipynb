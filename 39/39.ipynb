{
 "cells": [
  {
   "cell_type": "code",
   "execution_count": 1,
   "metadata": {},
   "outputs": [],
   "source": [
    "import MeCab\n",
    "import matplotlib\n",
    "import pandas as pd\n",
    "from pprint import pprint\n",
    "import matplotlib.pyplot as plt\n",
    "\n",
    "import sys\n",
    "sys.path.append('/Users/ishiiasuka/Documents/GitHub/NLP100')\n",
    "from package import read_text"
   ]
  },
  {
   "cell_type": "code",
   "execution_count": 2,
   "metadata": {},
   "outputs": [
    {
     "name": "stdout",
     "output_type": "stream",
     "text": [
      "<class 'pandas.core.frame.DataFrame'>\n",
      "Int64Index: 184491 entries, 3 to 226257\n",
      "Data columns (total 4 columns):\n",
      " #   Column   Non-Null Count   Dtype \n",
      "---  ------   --------------   ----- \n",
      " 0   surface  184491 non-null  object\n",
      " 1   pos      184491 non-null  object\n",
      " 2   pos1     184491 non-null  object\n",
      " 3   base     184491 non-null  object\n",
      "dtypes: object(4)\n",
      "memory usage: 7.0+ MB\n",
      "None\n",
      "  surface  pos pos1 base\n",
      "3      吾輩   名詞  代名詞   吾輩\n",
      "4       は   助詞  係助詞    は\n",
      "5       猫   名詞   一般    猫\n",
      "6       で  助動詞    *    だ\n",
      "7      ある  助動詞    *   ある\n",
      "184491\n"
     ]
    }
   ],
   "source": [
    "df = read_text()\n",
    "df = df[(df['pos1'] != '空白') & (df['surface'] != 'EOS') & (df['pos'] != '記号') & (df['surface'] != '記号')]\n",
    "print(df.info())\n",
    "print(df.head())\n",
    "print(len(df))"
   ]
  },
  {
   "cell_type": "code",
   "execution_count": 3,
   "metadata": {},
   "outputs": [
    {
     "name": "stdout",
     "output_type": "stream",
     "text": [
      "し      2259\n",
      "の      1611\n",
      "いる     1249\n",
      "事      1207\n",
      "する      992\n",
      "       ... \n",
      "来たし       1\n",
      "果す        1\n",
      "往         1\n",
      "附         1\n",
      "御機嫌       1\n",
      "Name: surface, Length: 13434, dtype: int64\n"
     ]
    }
   ],
   "source": [
    "vc = df[df['pos'].str.startswith('助') == False]['surface']\n",
    "vcv = vc.value_counts(ascending = False)\n",
    "print(vcv)"
   ]
  },
  {
   "cell_type": "code",
   "execution_count": 4,
   "metadata": {},
   "outputs": [],
   "source": [
    "freq = vcv.values.tolist()"
   ]
  },
  {
   "cell_type": "code",
   "execution_count": 7,
   "metadata": {},
   "outputs": [
    {
     "data": {
      "text/plain": [
       "<matplotlib.collections.PathCollection at 0x7fe9d9a699b0>"
      ]
     },
     "execution_count": 7,
     "metadata": {},
     "output_type": "execute_result"
    },
    {
     "data": {
      "image/png": "[encoded data removed]",
      "text/plain": [
       "<Figure size 432x288 with 1 Axes>"
      ]
     },
     "metadata": {
      "needs_background": "light"
     },
     "output_type": "display_data"
    }
   ],
   "source": [
    "plt.xscale('log')\n",
    "plt.yscale('log')\n",
    "plt.xlim(1, len(freq)+1)\n",
    "plt.ylim(1, freq[0])\n",
    "plt.xlabel('ランク')\n",
    "plt.ylabel('出現頻度')\n",
    "plt.scatter(x = range(1,len(freq)+1), y = freq)"
   ]
  },
  {
   "cell_type": "code",
   "execution_count": 6,
   "metadata": {},
   "outputs": [
    {
     "data": {
      "text/plain": [
       "<matplotlib.collections.PathCollection at 0x7fe9d88145f8>"
      ]
     },
     "execution_count": 6,
     "metadata": {},
     "output_type": "execute_result"
    },
    {
     "data": {
      "image/png": "[encoded data removed]",
      "text/plain": [
       "<Figure size 432x288 with 1 Axes>"
      ]
     },
     "metadata": {
      "needs_background": "light"
     },
     "output_type": "display_data"
    }
   ],
   "source": []
  },
  {
   "cell_type": "code",
   "execution_count": null,
   "metadata": {},
   "outputs": [],
   "source": []
  }
 ],
 "metadata": {
  "kernelspec": {
   "display_name": "project_nippo",
   "language": "python",
   "name": "project_nippo"
  },
  "language_info": {
   "codemirror_mode": {
    "name": "ipython",
    "version": 3
   },
   "file_extension": ".py",
   "mimetype": "text/x-python",
   "name": "python",
   "nbconvert_exporter": "python",
   "pygments_lexer": "ipython3",
   "version": "3.6.6"
  }
 },
 "nbformat": 4,
 "nbformat_minor": 2
}
